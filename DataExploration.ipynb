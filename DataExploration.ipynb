{
 "cells": [
  {
   "cell_type": "code",
   "execution_count": 38,
   "id": "64fe15c8",
   "metadata": {},
   "outputs": [],
   "source": [
    "import pandas as pd\n",
    "import matplotlib.pyplot as plt"
   ]
  },
  {
   "cell_type": "code",
   "execution_count": 39,
   "id": "f8d7f635",
   "metadata": {},
   "outputs": [],
   "source": [
    "df = pd.read_csv(\"C:\\\\Users\\\\Lucas\\\\Video Images\\\\Data\\\\NoNone_Compare_withdist.csv\")"
   ]
  },
  {
   "cell_type": "code",
   "execution_count": null,
   "id": "38d776cc",
   "metadata": {},
   "outputs": [],
   "source": [
    "df.head"
   ]
  },
  {
   "cell_type": "code",
   "execution_count": 41,
   "id": "0a166995",
   "metadata": {},
   "outputs": [
    {
     "data": {
      "text/html": [
       "<div>\n",
       "<style scoped>\n",
       "    .dataframe tbody tr th:only-of-type {\n",
       "        vertical-align: middle;\n",
       "    }\n",
       "\n",
       "    .dataframe tbody tr th {\n",
       "        vertical-align: top;\n",
       "    }\n",
       "\n",
       "    .dataframe thead th {\n",
       "        text-align: right;\n",
       "    }\n",
       "</style>\n",
       "<table border=\"1\" class=\"dataframe\">\n",
       "  <thead>\n",
       "    <tr style=\"text-align: right;\">\n",
       "      <th></th>\n",
       "      <th>Unnamed: 0.1</th>\n",
       "      <th>Unnamed: 0</th>\n",
       "      <th>imageFile</th>\n",
       "      <th>textFile</th>\n",
       "      <th>Step</th>\n",
       "      <th>Localization</th>\n",
       "      <th>Distance</th>\n",
       "    </tr>\n",
       "  </thead>\n",
       "  <tbody>\n",
       "    <tr>\n",
       "      <th>0</th>\n",
       "      <td>151</td>\n",
       "      <td>151</td>\n",
       "      <td>GH010020@t=92.000.jpg</td>\n",
       "      <td>GH010020@t=92.000.txt</td>\n",
       "      <td>Surgery</td>\n",
       "      <td>upper_left/lower</td>\n",
       "      <td>0.113922</td>\n",
       "    </tr>\n",
       "    <tr>\n",
       "      <th>1</th>\n",
       "      <td>152</td>\n",
       "      <td>152</td>\n",
       "      <td>GH010020@t=92.067.jpg</td>\n",
       "      <td>GH010020@t=92.067.txt</td>\n",
       "      <td>Surgery</td>\n",
       "      <td>upper_left/lower</td>\n",
       "      <td>0.118056</td>\n",
       "    </tr>\n",
       "    <tr>\n",
       "      <th>2</th>\n",
       "      <td>153</td>\n",
       "      <td>153</td>\n",
       "      <td>GH010020@t=92.133.jpg</td>\n",
       "      <td>GH010020@t=92.133.txt</td>\n",
       "      <td>Surgery</td>\n",
       "      <td>upper_left/lower</td>\n",
       "      <td>0.116678</td>\n",
       "    </tr>\n",
       "    <tr>\n",
       "      <th>3</th>\n",
       "      <td>154</td>\n",
       "      <td>154</td>\n",
       "      <td>GH010020@t=92.200.jpg</td>\n",
       "      <td>GH010020@t=92.200.txt</td>\n",
       "      <td>Surgery</td>\n",
       "      <td>upper_left/lower</td>\n",
       "      <td>0.111443</td>\n",
       "    </tr>\n",
       "    <tr>\n",
       "      <th>4</th>\n",
       "      <td>155</td>\n",
       "      <td>155</td>\n",
       "      <td>GH010020@t=92.267.jpg</td>\n",
       "      <td>GH010020@t=92.267.txt</td>\n",
       "      <td>Surgery</td>\n",
       "      <td>upper_left/lower</td>\n",
       "      <td>0.109807</td>\n",
       "    </tr>\n",
       "  </tbody>\n",
       "</table>\n",
       "</div>"
      ],
      "text/plain": [
       "   Unnamed: 0.1  Unnamed: 0              imageFile               textFile  \\\n",
       "0           151         151  GH010020@t=92.000.jpg  GH010020@t=92.000.txt   \n",
       "1           152         152  GH010020@t=92.067.jpg  GH010020@t=92.067.txt   \n",
       "2           153         153  GH010020@t=92.133.jpg  GH010020@t=92.133.txt   \n",
       "3           154         154  GH010020@t=92.200.jpg  GH010020@t=92.200.txt   \n",
       "4           155         155  GH010020@t=92.267.jpg  GH010020@t=92.267.txt   \n",
       "\n",
       "      Step      Localization  Distance  \n",
       "0  Surgery  upper_left/lower  0.113922  \n",
       "1  Surgery  upper_left/lower  0.118056  \n",
       "2  Surgery  upper_left/lower  0.116678  \n",
       "3  Surgery  upper_left/lower  0.111443  \n",
       "4  Surgery  upper_left/lower  0.109807  "
      ]
     },
     "execution_count": 41,
     "metadata": {},
     "output_type": "execute_result"
    }
   ],
   "source": [
    "df.head()"
   ]
  },
  {
   "cell_type": "code",
   "execution_count": 42,
   "id": "d88c0599",
   "metadata": {},
   "outputs": [
    {
     "data": {
      "text/plain": [
       "count    1.880200e+04\n",
       "mean     6.040180e-02\n",
       "std      9.103647e-02\n",
       "min      3.500000e-07\n",
       "25%      1.397621e-02\n",
       "50%      2.090777e-02\n",
       "75%      4.982872e-02\n",
       "max      6.826034e-01\n",
       "Name: Distance, dtype: float64"
      ]
     },
     "execution_count": 42,
     "metadata": {},
     "output_type": "execute_result"
    }
   ],
   "source": [
    "df[\"Distance\"].describe()"
   ]
  },
  {
   "cell_type": "code",
   "execution_count": null,
   "id": "8f03a7b0",
   "metadata": {},
   "outputs": [],
   "source": [
    "pd.qcut(df[\"Distance\"], q=4)"
   ]
  },
  {
   "cell_type": "code",
   "execution_count": 45,
   "id": "817b11c5",
   "metadata": {},
   "outputs": [
    {
     "data": {
      "text/plain": [
       "array([[<AxesSubplot:title={'center':'Left'}>,\n",
       "        <AxesSubplot:title={'center':'Posterior'}>],\n",
       "       [<AxesSubplot:title={'center':'Right'}>,\n",
       "        <AxesSubplot:title={'center':'Surgery'}>]], dtype=object)"
      ]
     },
     "execution_count": 45,
     "metadata": {},
     "output_type": "execute_result"
    },
    {
     "data": {
      "image/png": "[encoded data removed]",
      "text/plain": [
       "<Figure size 1440x720 with 4 Axes>"
      ]
     },
     "metadata": {
      "needs_background": "light"
     },
     "output_type": "display_data"
    }
   ],
   "source": [
    "df.hist(column=\"Distance\", by=\"Step\", bins=100, figsize=(20, 10))"
   ]
  },
  {
   "cell_type": "code",
   "execution_count": 46,
   "id": "e2be7371",
   "metadata": {},
   "outputs": [],
   "source": [
    "left = df[(df.Step == \"Left\")]\n",
    "right = df[df.Step == \"Right\"]\n",
    "post = df[df.Step == \"Posterior\"]\n",
    "surg = df[df.Step == \"Surgery\"]"
   ]
  },
  {
   "cell_type": "code",
   "execution_count": 47,
   "id": "ad962228",
   "metadata": {},
   "outputs": [
    {
     "data": {
      "text/plain": [
       "count    3.089000e+03\n",
       "mean     1.997066e-02\n",
       "std      2.827976e-02\n",
       "min      3.500000e-07\n",
       "25%      1.155725e-02\n",
       "50%      1.697878e-02\n",
       "75%      2.342888e-02\n",
       "max      3.836042e-01\n",
       "Name: Distance, dtype: float64"
      ]
     },
     "execution_count": 47,
     "metadata": {},
     "output_type": "execute_result"
    }
   ],
   "source": [
    "left[\"Distance\"].describe()"
   ]
  },
  {
   "cell_type": "code",
   "execution_count": 48,
   "id": "5378e436",
   "metadata": {},
   "outputs": [
    {
     "data": {
      "text/plain": [
       "count    2449.000000\n",
       "mean        0.024282\n",
       "std         0.041557\n",
       "min         0.000391\n",
       "25%         0.010793\n",
       "50%         0.016364\n",
       "75%         0.022693\n",
       "max         0.410619\n",
       "Name: Distance, dtype: float64"
      ]
     },
     "execution_count": 48,
     "metadata": {},
     "output_type": "execute_result"
    }
   ],
   "source": [
    "right[\"Distance\"].describe()"
   ]
  },
  {
   "cell_type": "code",
   "execution_count": 49,
   "id": "eb2954da",
   "metadata": {},
   "outputs": [
    {
     "data": {
      "text/plain": [
       "count    5341.000000\n",
       "mean        0.031248\n",
       "std         0.051756\n",
       "min         0.000391\n",
       "25%         0.013299\n",
       "50%         0.018370\n",
       "75%         0.025648\n",
       "max         0.423942\n",
       "Name: Distance, dtype: float64"
      ]
     },
     "execution_count": 49,
     "metadata": {},
     "output_type": "execute_result"
    }
   ],
   "source": [
    "post[\"Distance\"].describe()"
   ]
  },
  {
   "cell_type": "code",
   "execution_count": 50,
   "id": "f8713a53",
   "metadata": {},
   "outputs": [
    {
     "data": {
      "text/plain": [
       "count    7.923000e+03\n",
       "mean     1.069825e-01\n",
       "std      1.150387e-01\n",
       "min      5.024938e-07\n",
       "25%      1.873198e-02\n",
       "50%      5.323243e-02\n",
       "75%      1.865853e-01\n",
       "max      6.826034e-01\n",
       "Name: Distance, dtype: float64"
      ]
     },
     "execution_count": 50,
     "metadata": {},
     "output_type": "execute_result"
    }
   ],
   "source": [
    "surg[\"Distance\"].describe()"
   ]
  },
  {
   "cell_type": "code",
   "execution_count": 51,
   "id": "70d09cd8",
   "metadata": {},
   "outputs": [],
   "source": [
    "df.loc[(df[\"Step\"] == \"Left\") | (df[\"Step\"] == \"Right\") | (df[\"Step\"] == \"Posterior\"), 'Contact'] = 1\n",
    "df.loc[(df[\"Step\"] == \"Surgery\"), 'Contact'] = 0"
   ]
  },
  {
   "cell_type": "code",
   "execution_count": 112,
   "id": "600dacf9",
   "metadata": {},
   "outputs": [
    {
     "data": {
      "text/html": [
       "<div>\n",
       "<style scoped>\n",
       "    .dataframe tbody tr th:only-of-type {\n",
       "        vertical-align: middle;\n",
       "    }\n",
       "\n",
       "    .dataframe tbody tr th {\n",
       "        vertical-align: top;\n",
       "    }\n",
       "\n",
       "    .dataframe thead th {\n",
       "        text-align: right;\n",
       "    }\n",
       "</style>\n",
       "<table border=\"1\" class=\"dataframe\">\n",
       "  <thead>\n",
       "    <tr style=\"text-align: right;\">\n",
       "      <th></th>\n",
       "      <th>Unnamed: 0.1</th>\n",
       "      <th>Unnamed: 0</th>\n",
       "      <th>imageFile</th>\n",
       "      <th>textFile</th>\n",
       "      <th>Step</th>\n",
       "      <th>Localization</th>\n",
       "      <th>Distance</th>\n",
       "      <th>Contact</th>\n",
       "      <th>Prediction</th>\n",
       "      <th>Cls</th>\n",
       "      <th>Surgery</th>\n",
       "      <th>Left</th>\n",
       "      <th>Right</th>\n",
       "      <th>Posterior</th>\n",
       "    </tr>\n",
       "  </thead>\n",
       "  <tbody>\n",
       "    <tr>\n",
       "      <th>0</th>\n",
       "      <td>151</td>\n",
       "      <td>151</td>\n",
       "      <td>GH010020@t=92.000.jpg</td>\n",
       "      <td>GH010020@t=92.000.txt</td>\n",
       "      <td>Surgery</td>\n",
       "      <td>upper_left/lower</td>\n",
       "      <td>0.113922</td>\n",
       "      <td>0.0</td>\n",
       "      <td>0</td>\n",
       "      <td>0.0</td>\n",
       "      <td>1</td>\n",
       "      <td>0</td>\n",
       "      <td>0</td>\n",
       "      <td>0</td>\n",
       "    </tr>\n",
       "    <tr>\n",
       "      <th>1</th>\n",
       "      <td>152</td>\n",
       "      <td>152</td>\n",
       "      <td>GH010020@t=92.067.jpg</td>\n",
       "      <td>GH010020@t=92.067.txt</td>\n",
       "      <td>Surgery</td>\n",
       "      <td>upper_left/lower</td>\n",
       "      <td>0.118056</td>\n",
       "      <td>0.0</td>\n",
       "      <td>0</td>\n",
       "      <td>0.0</td>\n",
       "      <td>1</td>\n",
       "      <td>0</td>\n",
       "      <td>0</td>\n",
       "      <td>0</td>\n",
       "    </tr>\n",
       "    <tr>\n",
       "      <th>2</th>\n",
       "      <td>153</td>\n",
       "      <td>153</td>\n",
       "      <td>GH010020@t=92.133.jpg</td>\n",
       "      <td>GH010020@t=92.133.txt</td>\n",
       "      <td>Surgery</td>\n",
       "      <td>upper_left/lower</td>\n",
       "      <td>0.116678</td>\n",
       "      <td>0.0</td>\n",
       "      <td>0</td>\n",
       "      <td>0.0</td>\n",
       "      <td>1</td>\n",
       "      <td>0</td>\n",
       "      <td>0</td>\n",
       "      <td>0</td>\n",
       "    </tr>\n",
       "    <tr>\n",
       "      <th>3</th>\n",
       "      <td>154</td>\n",
       "      <td>154</td>\n",
       "      <td>GH010020@t=92.200.jpg</td>\n",
       "      <td>GH010020@t=92.200.txt</td>\n",
       "      <td>Surgery</td>\n",
       "      <td>upper_left/lower</td>\n",
       "      <td>0.111443</td>\n",
       "      <td>0.0</td>\n",
       "      <td>0</td>\n",
       "      <td>0.0</td>\n",
       "      <td>1</td>\n",
       "      <td>0</td>\n",
       "      <td>0</td>\n",
       "      <td>0</td>\n",
       "    </tr>\n",
       "    <tr>\n",
       "      <th>4</th>\n",
       "      <td>155</td>\n",
       "      <td>155</td>\n",
       "      <td>GH010020@t=92.267.jpg</td>\n",
       "      <td>GH010020@t=92.267.txt</td>\n",
       "      <td>Surgery</td>\n",
       "      <td>upper_left/lower</td>\n",
       "      <td>0.109807</td>\n",
       "      <td>0.0</td>\n",
       "      <td>0</td>\n",
       "      <td>0.0</td>\n",
       "      <td>1</td>\n",
       "      <td>0</td>\n",
       "      <td>0</td>\n",
       "      <td>0</td>\n",
       "    </tr>\n",
       "  </tbody>\n",
       "</table>\n",
       "</div>"
      ],
      "text/plain": [
       "   Unnamed: 0.1  Unnamed: 0              imageFile               textFile  \\\n",
       "0           151         151  GH010020@t=92.000.jpg  GH010020@t=92.000.txt   \n",
       "1           152         152  GH010020@t=92.067.jpg  GH010020@t=92.067.txt   \n",
       "2           153         153  GH010020@t=92.133.jpg  GH010020@t=92.133.txt   \n",
       "3           154         154  GH010020@t=92.200.jpg  GH010020@t=92.200.txt   \n",
       "4           155         155  GH010020@t=92.267.jpg  GH010020@t=92.267.txt   \n",
       "\n",
       "      Step      Localization  Distance  Contact  Prediction  Cls  Surgery  \\\n",
       "0  Surgery  upper_left/lower  0.113922      0.0           0  0.0        1   \n",
       "1  Surgery  upper_left/lower  0.118056      0.0           0  0.0        1   \n",
       "2  Surgery  upper_left/lower  0.116678      0.0           0  0.0        1   \n",
       "3  Surgery  upper_left/lower  0.111443      0.0           0  0.0        1   \n",
       "4  Surgery  upper_left/lower  0.109807      0.0           0  0.0        1   \n",
       "\n",
       "   Left  Right  Posterior  \n",
       "0     0      0          0  \n",
       "1     0      0          0  \n",
       "2     0      0          0  \n",
       "3     0      0          0  \n",
       "4     0      0          0  "
      ]
     },
     "execution_count": 112,
     "metadata": {},
     "output_type": "execute_result"
    }
   ],
   "source": [
    "df.head()"
   ]
  },
  {
   "cell_type": "code",
   "execution_count": 54,
   "id": "bbcb7132",
   "metadata": {},
   "outputs": [],
   "source": [
    "df['Prediction'] = df['Distance'].apply(lambda x: 1 if x < 0.05 else 0)"
   ]
  },
  {
   "cell_type": "code",
   "execution_count": null,
   "id": "01908d3b",
   "metadata": {},
   "outputs": [],
   "source": [
    "df.head(50)"
   ]
  },
  {
   "cell_type": "code",
   "execution_count": 56,
   "id": "67d12280",
   "metadata": {},
   "outputs": [
    {
     "data": {
      "text/plain": [
       "count    18802.000000\n",
       "mean         0.578609\n",
       "std          0.493795\n",
       "min          0.000000\n",
       "25%          0.000000\n",
       "50%          1.000000\n",
       "75%          1.000000\n",
       "max          1.000000\n",
       "Name: Contact, dtype: float64"
      ]
     },
     "execution_count": 56,
     "metadata": {},
     "output_type": "execute_result"
    }
   ],
   "source": [
    "df[\"Contact\"].describe()"
   ]
  },
  {
   "cell_type": "code",
   "execution_count": 57,
   "id": "fbd7887e",
   "metadata": {},
   "outputs": [
    {
     "data": {
      "text/plain": [
       "count    18802.000000\n",
       "mean         0.750239\n",
       "std          0.432886\n",
       "min          0.000000\n",
       "25%          1.000000\n",
       "50%          1.000000\n",
       "75%          1.000000\n",
       "max          1.000000\n",
       "Name: Prediction, dtype: float64"
      ]
     },
     "execution_count": 57,
     "metadata": {},
     "output_type": "execute_result"
    }
   ],
   "source": [
    "df[\"Prediction\"].describe()"
   ]
  },
  {
   "cell_type": "code",
   "execution_count": 68,
   "id": "203c3c14",
   "metadata": {},
   "outputs": [],
   "source": [
    "df['Surgery'] = df['Step'].apply(lambda x: 1 if x == \"Surgery\" else 0)\n",
    "df['Left'] = df['Step'].apply(lambda x: 1 if x == \"Left\" else 0)\n",
    "df['Right'] = df['Step'].apply(lambda x: 1 if x == \"Right\" else 0)\n",
    "df['Posterior'] = df['Step'].apply(lambda x: 1 if x == \"Posterior\" else 0)"
   ]
  },
  {
   "cell_type": "code",
   "execution_count": null,
   "id": "3f063888",
   "metadata": {},
   "outputs": [],
   "source": [
    "df.drop(columns=['Cls'])"
   ]
  },
  {
   "cell_type": "code",
   "execution_count": 108,
   "id": "ddaebc58",
   "metadata": {},
   "outputs": [],
   "source": [
    "import pandas as pd\n",
    "import numpy as np\n",
    "from sklearn.model_selection import train_test_split\n",
    "from sklearn.linear_model import LogisticRegression\n",
    "from sklearn import metrics\n",
    "import matplotlib.pyplot as plt\n",
    "from sklearn.metrics import ConfusionMatrixDisplay"
   ]
  },
  {
   "cell_type": "code",
   "execution_count": 89,
   "id": "69279ee7",
   "metadata": {},
   "outputs": [
    {
     "data": {
      "text/html": [
       "<style>#sk-container-id-6 {color: black;background-color: white;}#sk-container-id-6 pre{padding: 0;}#sk-container-id-6 div.sk-toggleable {background-color: white;}#sk-container-id-6 label.sk-toggleable__label {cursor: pointer;display: block;width: 100%;margin-bottom: 0;padding: 0.3em;box-sizing: border-box;text-align: center;}#sk-container-id-6 label.sk-toggleable__label-arrow:before {content: \"▸\";float: left;margin-right: 0.25em;color: #696969;}#sk-container-id-6 label.sk-toggleable__label-arrow:hover:before {color: black;}#sk-container-id-6 div.sk-estimator:hover label.sk-toggleable__label-arrow:before {color: black;}#sk-container-id-6 div.sk-toggleable__content {max-height: 0;max-width: 0;overflow: hidden;text-align: left;background-color: #f0f8ff;}#sk-container-id-6 div.sk-toggleable__content pre {margin: 0.2em;color: black;border-radius: 0.25em;background-color: #f0f8ff;}#sk-container-id-6 input.sk-toggleable__control:checked~div.sk-toggleable__content {max-height: 200px;max-width: 100%;overflow: auto;}#sk-container-id-6 input.sk-toggleable__control:checked~label.sk-toggleable__label-arrow:before {content: \"▾\";}#sk-container-id-6 div.sk-estimator input.sk-toggleable__control:checked~label.sk-toggleable__label {background-color: #d4ebff;}#sk-container-id-6 div.sk-label input.sk-toggleable__control:checked~label.sk-toggleable__label {background-color: #d4ebff;}#sk-container-id-6 input.sk-hidden--visually {border: 0;clip: rect(1px 1px 1px 1px);clip: rect(1px, 1px, 1px, 1px);height: 1px;margin: -1px;overflow: hidden;padding: 0;position: absolute;width: 1px;}#sk-container-id-6 div.sk-estimator {font-family: monospace;background-color: #f0f8ff;border: 1px dotted black;border-radius: 0.25em;box-sizing: border-box;margin-bottom: 0.5em;}#sk-container-id-6 div.sk-estimator:hover {background-color: #d4ebff;}#sk-container-id-6 div.sk-parallel-item::after {content: \"\";width: 100%;border-bottom: 1px solid gray;flex-grow: 1;}#sk-container-id-6 div.sk-label:hover label.sk-toggleable__label {background-color: #d4ebff;}#sk-container-id-6 div.sk-serial::before {content: \"\";position: absolute;border-left: 1px solid gray;box-sizing: border-box;top: 0;bottom: 0;left: 50%;z-index: 0;}#sk-container-id-6 div.sk-serial {display: flex;flex-direction: column;align-items: center;background-color: white;padding-right: 0.2em;padding-left: 0.2em;position: relative;}#sk-container-id-6 div.sk-item {position: relative;z-index: 1;}#sk-container-id-6 div.sk-parallel {display: flex;align-items: stretch;justify-content: center;background-color: white;position: relative;}#sk-container-id-6 div.sk-item::before, #sk-container-id-6 div.sk-parallel-item::before {content: \"\";position: absolute;border-left: 1px solid gray;box-sizing: border-box;top: 0;bottom: 0;left: 50%;z-index: -1;}#sk-container-id-6 div.sk-parallel-item {display: flex;flex-direction: column;z-index: 1;position: relative;background-color: white;}#sk-container-id-6 div.sk-parallel-item:first-child::after {align-self: flex-end;width: 50%;}#sk-container-id-6 div.sk-parallel-item:last-child::after {align-self: flex-start;width: 50%;}#sk-container-id-6 div.sk-parallel-item:only-child::after {width: 0;}#sk-container-id-6 div.sk-dashed-wrapped {border: 1px dashed gray;margin: 0 0.4em 0.5em 0.4em;box-sizing: border-box;padding-bottom: 0.4em;background-color: white;}#sk-container-id-6 div.sk-label label {font-family: monospace;font-weight: bold;display: inline-block;line-height: 1.2em;}#sk-container-id-6 div.sk-label-container {text-align: center;}#sk-container-id-6 div.sk-container {/* jupyter's `normalize.less` sets `[hidden] { display: none; }` but bootstrap.min.css set `[hidden] { display: none !important; }` so we also need the `!important` here to be able to override the default hidden behavior on the sphinx rendered scikit-learn.org. See: https://github.com/scikit-learn/scikit-learn/issues/21755 */display: inline-block !important;position: relative;}#sk-container-id-6 div.sk-text-repr-fallback {display: none;}</style><div id=\"sk-container-id-6\" class=\"sk-top-container\"><div class=\"sk-text-repr-fallback\"><pre>LogisticRegression(class_weight=&#x27;balanced&#x27;)</pre><b>In a Jupyter environment, please rerun this cell to show the HTML representation or trust the notebook. <br />On GitHub, the HTML representation is unable to render, please try loading this page with nbviewer.org.</b></div><div class=\"sk-container\" hidden><div class=\"sk-item\"><div class=\"sk-estimator sk-toggleable\"><input class=\"sk-toggleable__control sk-hidden--visually\" id=\"sk-estimator-id-6\" type=\"checkbox\" checked><label for=\"sk-estimator-id-6\" class=\"sk-toggleable__label sk-toggleable__label-arrow\">LogisticRegression</label><div class=\"sk-toggleable__content\"><pre>LogisticRegression(class_weight=&#x27;balanced&#x27;)</pre></div></div></div></div></div>"
      ],
      "text/plain": [
       "LogisticRegression(class_weight='balanced')"
      ]
     },
     "execution_count": 89,
     "metadata": {},
     "output_type": "execute_result"
    }
   ],
   "source": [
    "#define the predictor variables and the response variable\n",
    "X = df[['Distance']]\n",
    "y = df['Contact']\n",
    "\n",
    "#split the dataset into training (70%) and testing (30%) sets\n",
    "X_train,X_test,y_train,y_test = train_test_split(X,y,test_size=0.3,random_state=0) \n",
    "\n",
    "#instantiate the model\n",
    "log_regression = LogisticRegression(class_weight='balanced')\n",
    "\n",
    "#fit the model using the training data\n",
    "log_regression.fit(X_train,y_train)"
   ]
  },
  {
   "cell_type": "code",
   "execution_count": 113,
   "id": "695761ab",
   "metadata": {},
   "outputs": [
    {
     "data": {
      "image/png": "[encoded data removed]",
      "text/plain": [
       "<Figure size 432x288 with 1 Axes>"
      ]
     },
     "metadata": {
      "needs_background": "light"
     },
     "output_type": "display_data"
    }
   ],
   "source": [
    "#define metrics\n",
    "y_pred_proba = log_regression.predict_proba(X_test)[::,1]\n",
    "fpr, tpr, thresholds = metrics.roc_curve(y_test,  y_pred_proba)\n",
    "y_pred = log_regression.predict(X_test)\n",
    "\n",
    "#create ROC curve\n",
    "plt.plot(fpr,tpr)\n",
    "plt.ylabel('True Positive Rate')\n",
    "plt.xlabel('False Positive Rate')\n",
    "plt.show()"
   ]
  },
  {
   "cell_type": "code",
   "execution_count": 117,
   "id": "d5e27cbb",
   "metadata": {},
   "outputs": [
    {
     "name": "stdout",
     "output_type": "stream",
     "text": [
      "optimal threshold: 0.5623449494917063\n"
     ]
    }
   ],
   "source": [
    "print(\"optimal threshold: \" + str(thresholds[np.argmax(tpr - fpr)]))"
   ]
  },
  {
   "cell_type": "code",
   "execution_count": 129,
   "id": "cd6a026e",
   "metadata": {},
   "outputs": [
    {
     "name": "stdout",
     "output_type": "stream",
     "text": [
      "f1 score: 0.8234513861254807\n",
      "accuracy score: 0.764048927495125\n"
     ]
    },
    {
     "data": {
      "image/png": "[encoded data removed]",
      "text/plain": [
       "<Figure size 432x288 with 2 Axes>"
      ]
     },
     "metadata": {
      "needs_background": "light"
     },
     "output_type": "display_data"
    }
   ],
   "source": [
    "cm = sklearn.metrics.confusion_matrix(y_test, y_pred)\n",
    "print(\"f1 score: \" + str(metrics.f1_score(y_test, y_pred)))\n",
    "print(\"accuracy score: \" + str(metrics.accuracy_score(y_test, y_pred)))\n",
    "disp = ConfusionMatrixDisplay(confusion_matrix=cm, display_labels=log_regression.classes_)\n",
    "disp.plot()\n",
    "plt.show()"
   ]
  },
  {
   "cell_type": "code",
   "execution_count": 127,
   "id": "7f28e665",
   "metadata": {},
   "outputs": [
    {
     "name": "stdout",
     "output_type": "stream",
     "text": [
      "f1 score: 0.8179106916697308\n",
      "precision score: 0.7361376673040153\n",
      "recall score: 0.9201213346814965\n"
     ]
    },
    {
     "data": {
      "image/png": "[encoded data removed]",
      "text/plain": [
       "<Figure size 432x288 with 2 Axes>"
      ]
     },
     "metadata": {
      "needs_background": "light"
     },
     "output_type": "display_data"
    }
   ],
   "source": [
    "thr = 0.04\n",
    "df['thrTest'] = df['Distance'].apply(lambda x: 1 if x <= thr else 0)\n",
    "print(\"f1 score: \" + str(metrics.f1_score(df['Contact'], df['thrTest'])))\n",
    "print(\"precision score: \" + str(metrics.precision_score(df['Contact'], df['thrTest'])))\n",
    "print(\"recall score: \" + str(metrics.recall_score(df['Contact'], df['thrTest'])))\n",
    "cm2 = sklearn.metrics.confusion_matrix(df['Contact'], df['thrTest'])\n",
    "disp = ConfusionMatrixDisplay(confusion_matrix=cm2)\n",
    "disp.plot()\n",
    "plt.show()"
   ]
  },
  {
   "cell_type": "code",
   "execution_count": 145,
   "id": "61ed628a",
   "metadata": {},
   "outputs": [
    {
     "name": "stdout",
     "output_type": "stream",
     "text": [
      "optimal: 0.06\n",
      "f1 score: 0.8183324130314744\n",
      "precision score: 0.7166839378238342\n",
      "recall score: 0.9535802923062782\n"
     ]
    },
    {
     "data": {
      "image/png": "[encoded data removed]",
      "text/plain": [
       "<Figure size 432x288 with 2 Axes>"
      ]
     },
     "metadata": {
      "needs_background": "light"
     },
     "output_type": "display_data"
    }
   ],
   "source": [
    "optimal = 0\n",
    "best = -1\n",
    "for thr in range(0, 100):\n",
    "    thr *= 0.01\n",
    "    if thr == 0:\n",
    "        continue\n",
    "    df['thrTest'] = df['Distance'].apply(lambda x: 1 if x <= thr else 0)\n",
    "    f1 = metrics.f1_score(df['Contact'], df['thrTest'])\n",
    "    if f1 >= best:\n",
    "        optimal = thr\n",
    "        best = f1\n",
    "print(\"optimal: \" + str(optimal))\n",
    "df['thrTest'] = df['Distance'].apply(lambda x: 1 if x <= optimal else 0)\n",
    "print(\"f1 score: \" + str(metrics.f1_score(df['Contact'], df['thrTest'])))\n",
    "print(\"precision score: \" + str(metrics.precision_score(df['Contact'], df['thrTest'])))\n",
    "print(\"recall score: \" + str(metrics.recall_score(df['Contact'], df['thrTest'])))\n",
    "cm2 = sklearn.metrics.confusion_matrix(df['Contact'], df['thrTest'])\n",
    "disp = ConfusionMatrixDisplay(confusion_matrix=cm2)\n",
    "disp.plot()\n",
    "plt.show()"
   ]
  },
  {
   "cell_type": "code",
   "execution_count": 141,
   "id": "d455a2d9",
   "metadata": {},
   "outputs": [
    {
     "data": {
      "text/html": [
       "<div>\n",
       "<style scoped>\n",
       "    .dataframe tbody tr th:only-of-type {\n",
       "        vertical-align: middle;\n",
       "    }\n",
       "\n",
       "    .dataframe tbody tr th {\n",
       "        vertical-align: top;\n",
       "    }\n",
       "\n",
       "    .dataframe thead th {\n",
       "        text-align: right;\n",
       "    }\n",
       "</style>\n",
       "<table border=\"1\" class=\"dataframe\">\n",
       "  <thead>\n",
       "    <tr style=\"text-align: right;\">\n",
       "      <th></th>\n",
       "      <th>Unnamed: 0.1</th>\n",
       "      <th>Unnamed: 0</th>\n",
       "      <th>imageFile</th>\n",
       "      <th>textFile</th>\n",
       "      <th>Step</th>\n",
       "      <th>Localization</th>\n",
       "      <th>Distance</th>\n",
       "      <th>Contact</th>\n",
       "      <th>Prediction</th>\n",
       "      <th>Cls</th>\n",
       "      <th>Surgery</th>\n",
       "      <th>Left</th>\n",
       "      <th>Right</th>\n",
       "      <th>Posterior</th>\n",
       "      <th>thrTest</th>\n",
       "    </tr>\n",
       "  </thead>\n",
       "  <tbody>\n",
       "    <tr>\n",
       "      <th>0</th>\n",
       "      <td>151</td>\n",
       "      <td>151</td>\n",
       "      <td>GH010020@t=92.000.jpg</td>\n",
       "      <td>GH010020@t=92.000.txt</td>\n",
       "      <td>Surgery</td>\n",
       "      <td>upper_left/lower</td>\n",
       "      <td>0.113922</td>\n",
       "      <td>0.0</td>\n",
       "      <td>0</td>\n",
       "      <td>0.0</td>\n",
       "      <td>1</td>\n",
       "      <td>0</td>\n",
       "      <td>0</td>\n",
       "      <td>0</td>\n",
       "      <td>1</td>\n",
       "    </tr>\n",
       "    <tr>\n",
       "      <th>1</th>\n",
       "      <td>152</td>\n",
       "      <td>152</td>\n",
       "      <td>GH010020@t=92.067.jpg</td>\n",
       "      <td>GH010020@t=92.067.txt</td>\n",
       "      <td>Surgery</td>\n",
       "      <td>upper_left/lower</td>\n",
       "      <td>0.118056</td>\n",
       "      <td>0.0</td>\n",
       "      <td>0</td>\n",
       "      <td>0.0</td>\n",
       "      <td>1</td>\n",
       "      <td>0</td>\n",
       "      <td>0</td>\n",
       "      <td>0</td>\n",
       "      <td>1</td>\n",
       "    </tr>\n",
       "    <tr>\n",
       "      <th>2</th>\n",
       "      <td>153</td>\n",
       "      <td>153</td>\n",
       "      <td>GH010020@t=92.133.jpg</td>\n",
       "      <td>GH010020@t=92.133.txt</td>\n",
       "      <td>Surgery</td>\n",
       "      <td>upper_left/lower</td>\n",
       "      <td>0.116678</td>\n",
       "      <td>0.0</td>\n",
       "      <td>0</td>\n",
       "      <td>0.0</td>\n",
       "      <td>1</td>\n",
       "      <td>0</td>\n",
       "      <td>0</td>\n",
       "      <td>0</td>\n",
       "      <td>1</td>\n",
       "    </tr>\n",
       "    <tr>\n",
       "      <th>3</th>\n",
       "      <td>154</td>\n",
       "      <td>154</td>\n",
       "      <td>GH010020@t=92.200.jpg</td>\n",
       "      <td>GH010020@t=92.200.txt</td>\n",
       "      <td>Surgery</td>\n",
       "      <td>upper_left/lower</td>\n",
       "      <td>0.111443</td>\n",
       "      <td>0.0</td>\n",
       "      <td>0</td>\n",
       "      <td>0.0</td>\n",
       "      <td>1</td>\n",
       "      <td>0</td>\n",
       "      <td>0</td>\n",
       "      <td>0</td>\n",
       "      <td>1</td>\n",
       "    </tr>\n",
       "    <tr>\n",
       "      <th>4</th>\n",
       "      <td>155</td>\n",
       "      <td>155</td>\n",
       "      <td>GH010020@t=92.267.jpg</td>\n",
       "      <td>GH010020@t=92.267.txt</td>\n",
       "      <td>Surgery</td>\n",
       "      <td>upper_left/lower</td>\n",
       "      <td>0.109807</td>\n",
       "      <td>0.0</td>\n",
       "      <td>0</td>\n",
       "      <td>0.0</td>\n",
       "      <td>1</td>\n",
       "      <td>0</td>\n",
       "      <td>0</td>\n",
       "      <td>0</td>\n",
       "      <td>1</td>\n",
       "    </tr>\n",
       "  </tbody>\n",
       "</table>\n",
       "</div>"
      ],
      "text/plain": [
       "   Unnamed: 0.1  Unnamed: 0              imageFile               textFile  \\\n",
       "0           151         151  GH010020@t=92.000.jpg  GH010020@t=92.000.txt   \n",
       "1           152         152  GH010020@t=92.067.jpg  GH010020@t=92.067.txt   \n",
       "2           153         153  GH010020@t=92.133.jpg  GH010020@t=92.133.txt   \n",
       "3           154         154  GH010020@t=92.200.jpg  GH010020@t=92.200.txt   \n",
       "4           155         155  GH010020@t=92.267.jpg  GH010020@t=92.267.txt   \n",
       "\n",
       "      Step      Localization  Distance  Contact  Prediction  Cls  Surgery  \\\n",
       "0  Surgery  upper_left/lower  0.113922      0.0           0  0.0        1   \n",
       "1  Surgery  upper_left/lower  0.118056      0.0           0  0.0        1   \n",
       "2  Surgery  upper_left/lower  0.116678      0.0           0  0.0        1   \n",
       "3  Surgery  upper_left/lower  0.111443      0.0           0  0.0        1   \n",
       "4  Surgery  upper_left/lower  0.109807      0.0           0  0.0        1   \n",
       "\n",
       "   Left  Right  Posterior  thrTest  \n",
       "0     0      0          0        1  \n",
       "1     0      0          0        1  \n",
       "2     0      0          0        1  \n",
       "3     0      0          0        1  \n",
       "4     0      0          0        1  "
      ]
     },
     "execution_count": 141,
     "metadata": {},
     "output_type": "execute_result"
    }
   ],
   "source": [
    "df.head()"
   ]
  },
  {
   "cell_type": "code",
   "execution_count": null,
   "id": "0d59b286",
   "metadata": {},
   "outputs": [],
   "source": []
  }
 ],
 "metadata": {
  "kernelspec": {
   "display_name": "Python 3 (ipykernel)",
   "language": "python",
   "name": "python3"
  },
  "language_info": {
   "codemirror_mode": {
    "name": "ipython",
    "version": 3
   },
   "file_extension": ".py",
   "mimetype": "text/x-python",
   "name": "python",
   "nbconvert_exporter": "python",
   "pygments_lexer": "ipython3",
   "version": "3.10.4"
  }
 },
 "nbformat": 4,
 "nbformat_minor": 5
}
